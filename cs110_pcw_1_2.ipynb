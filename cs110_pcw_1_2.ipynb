{
  "nbformat": 4,
  "nbformat_minor": 0,
  "metadata": {
    "kernelspec": {
      "display_name": "Python 3",
      "language": "python",
      "name": "python3"
    },
    "language_info": {
      "codemirror_mode": {
        "name": "ipython",
        "version": 3
      },
      "file_extension": ".py",
      "mimetype": "text/x-python",
      "name": "python",
      "nbconvert_exporter": "python",
      "pygments_lexer": "ipython3",
      "version": "3.6.5"
    },
    "colab": {
      "name": "cs110_pcw_1_2.ipynb",
      "provenance": [],
      "include_colab_link": true
    }
  },
  "cells": [
    {
      "cell_type": "markdown",
      "metadata": {
        "id": "view-in-github",
        "colab_type": "text"
      },
      "source": [
        "<a href=\"https://colab.research.google.com/github/mahmud-nobe/CS110_pcw_1.2/blob/master/cs110_pcw_1_2.ipynb\" target=\"_parent\"><img src=\"https://colab.research.google.com/assets/colab-badge.svg\" alt=\"Open In Colab\"/></a>"
      ]
    },
    {
      "cell_type": "markdown",
      "metadata": {
        "id": "3Pw8vnz5DUSj",
        "colab_type": "text"
      },
      "source": [
        "Before you turn this problem in, make sure everything runs as expected. First, **restart the kernel** (in the menubar, select Kernel$\\rightarrow$Restart) and then **run all cells** (in the menubar, select Cell$\\rightarrow$Run All).\n",
        "\n",
        "Make sure you fill in any place that says `YOUR CODE HERE` or \"YOUR ANSWER HERE\", as well as your name and collaborators below:"
      ]
    },
    {
      "cell_type": "code",
      "metadata": {
        "id": "U0l00VXIDUSl",
        "colab_type": "code",
        "colab": {}
      },
      "source": [
        "NAME = \"Md Mahmudunnobe\"\n",
        "COLLABORATORS = \"-\""
      ],
      "execution_count": 0,
      "outputs": []
    },
    {
      "cell_type": "markdown",
      "metadata": {
        "id": "kJaVlMTkDUSo",
        "colab_type": "text"
      },
      "source": [
        "---"
      ]
    },
    {
      "cell_type": "markdown",
      "metadata": {
        "id": "9IGbU2YO7gGR",
        "colab_type": "text"
      },
      "source": [
        "# CS110 Pre-class Work 1.2\n"
      ]
    },
    {
      "cell_type": "markdown",
      "metadata": {
        "deletable": false,
        "editable": false,
        "nbgrader": {
          "checksum": "947eded9ca5fab593f017a71dd26277b",
          "grade": false,
          "grade_id": "cell-b46066345313bea6",
          "locked": true,
          "schema_version": 1,
          "solution": false
        },
        "id": "Ry4BuFpWDUSo",
        "colab_type": "text"
      },
      "source": [
        "\n",
        "\n",
        "\n",
        "## Question 1\n",
        "The following pseudocode has been extracted from Cormen et al. You should analyze the lines of the pseudocode trying to understand what every line in the pseudocode does and how many times is that line executed. \n",
        "![Insertion sort pseudo-code](https://github.com/mahmud-nobe/CS110_pcw_1.2/raw/master/insertionsort_pseudo.png)\n",
        "\n",
        "Answer the following questions: What does line 7 do? Why is it necessary?"
      ]
    },
    {
      "cell_type": "markdown",
      "metadata": {
        "deletable": false,
        "nbgrader": {
          "checksum": "104f443d240e2139d778711f6bc0a766",
          "grade": true,
          "grade_id": "cell-3bac59ff24b11a27",
          "locked": false,
          "points": 0,
          "schema_version": 1,
          "solution": true
        },
        "id": "bneDjdCeDUSp",
        "colab_type": "text"
      },
      "source": [
        "Line 7 decreses the value of i by 1. Here before entering the while loop we are checking the last element of the sorted part of the list, (j-1)'th element, if it is higher then 'our current element that we are checking' (A[j] or key). \n",
        "Then we continue to check with the previous elements of the sorted part of the list until either we reached to the 1st element or the element value is not higher then the key.\n",
        "\n",
        "So, in line 7, we are decreasing the index as we are going from the last index of the sorted part of the list downto the 1st index of that part.\n",
        "\n",
        "If we didn't have line 7, we would check only the last element of the sorted part (which is also the adjacent element of our current 'key') every time and the while loop would not terminate at all if that element is higher than the 'key'. "
      ]
    },
    {
      "cell_type": "markdown",
      "metadata": {
        "deletable": false,
        "editable": false,
        "nbgrader": {
          "checksum": "7872c2d656a6cb3aaeff2b4fa41eb204",
          "grade": false,
          "grade_id": "cell-0ca65d04b209f37f",
          "locked": true,
          "schema_version": 1,
          "solution": false
        },
        "id": "o7zR0jYBDUSq",
        "colab_type": "text"
      },
      "source": [
        "## Question 2\n",
        "The following Python code is an attempt to implement the Insertion-Sort pseudocode above. However, this code has a bug. \n"
      ]
    },
    {
      "cell_type": "code",
      "metadata": {
        "deletable": false,
        "editable": false,
        "nbgrader": {
          "checksum": "8e004cd5b12aee0ecf19786bc1a71d81",
          "grade": false,
          "grade_id": "cell-348fe9383ed7e0c7",
          "locked": true,
          "schema_version": 1,
          "solution": false
        },
        "id": "nPCM7F4TDUSq",
        "colab_type": "code",
        "colab": {}
      },
      "source": [
        "def insertionSort(A):\n",
        "    for j in range(len(A)):\n",
        "        key = A[j]\n",
        "        i= j-1\n",
        "        while i >= 0 and A[i]>key:\n",
        "            A[i+1] = A[i]\n",
        "            i -= 1\n",
        "            A[i+1] = key\n",
        "    return A"
      ],
      "execution_count": 0,
      "outputs": []
    },
    {
      "cell_type": "markdown",
      "metadata": {
        "deletable": false,
        "editable": false,
        "nbgrader": {
          "checksum": "19a9183b993f6180d79385fed5dd07ee",
          "grade": false,
          "grade_id": "cell-16653cdc16be28b9",
          "locked": true,
          "schema_version": 1,
          "solution": false
        },
        "id": "aoE9ilx0DUSs",
        "colab_type": "text"
      },
      "source": [
        "Copy and paste the code in the cell below. Identify and correct the bug. "
      ]
    },
    {
      "cell_type": "code",
      "metadata": {
        "deletable": false,
        "nbgrader": {
          "checksum": "7c22d14f97eaad956abf7dae17c7317f",
          "grade": false,
          "grade_id": "cell-1b7488e89cb501c5",
          "locked": false,
          "schema_version": 1,
          "solution": true
        },
        "id": "sZItyJk9DUSt",
        "colab_type": "code",
        "colab": {}
      },
      "source": [
        "def insertionSort(A):\n",
        "    # before we are starting the for loop from 0, the first element of the list,\n",
        "    # while it doesn't hamper the accuracy of the algorithm, but we can totally skip\n",
        "    # the first element and start from the second element (index no 1) as the pseudo code suggested\n",
        "    for j in range(1,len(A)):\n",
        "        key = A[j]\n",
        "        i= j-1\n",
        "        while i >= 0 and A[i]>key:\n",
        "            A[i+1] = A[i]\n",
        "            i -= 1\n",
        "        # before the code is swaping the value of key within the already sorted elements\n",
        "        # inside of the while loop. But while loop works when the element value is higher than the key.\n",
        "        # But we want to swap only when the while loop terminates, which means when we are sure that there is no higher element left \n",
        "        # behind this value.\n",
        "        # Also when we swap it again and again inside of the while loop, the algorithm has to do extra unnecessary steps which decrease its efficiency.\n",
        "        A[i+1] = key  \n",
        "    return A\n",
        "    raise NotImplementedError()"
      ],
      "execution_count": 0,
      "outputs": []
    },
    {
      "cell_type": "code",
      "metadata": {
        "deletable": false,
        "editable": false,
        "nbgrader": {
          "checksum": "4ff6145033c64da48f2a44f040b2c1b7",
          "grade": true,
          "grade_id": "cell-3432ce8ae2493fa6",
          "locked": true,
          "points": 1,
          "schema_version": 1,
          "solution": false
        },
        "id": "A3Mg_NSBDUSv",
        "colab_type": "code",
        "colab": {}
      },
      "source": [
        "assert(insertionSort([0]) == [0])\n",
        "assert(insertionSort([-1,1]) == [-1,1])\n",
        "assert(insertionSort([1,-1]) == [-1,1])\n",
        "assert(insertionSort([1,6,3,6]) == [1,3,6,6])"
      ],
      "execution_count": 0,
      "outputs": []
    },
    {
      "cell_type": "code",
      "metadata": {
        "id": "cnhRhqLuzedd",
        "colab_type": "code",
        "outputId": "07c38488-8217-4d8f-a491-04220d7dfc41",
        "colab": {
          "base_uri": "https://localhost:8080/",
          "height": 33
        }
      },
      "source": [
        "insertionSort([-1,1]) == [-1,1]"
      ],
      "execution_count": 0,
      "outputs": [
        {
          "output_type": "execute_result",
          "data": {
            "text/plain": [
              "True"
            ]
          },
          "metadata": {
            "tags": []
          },
          "execution_count": 11
        }
      ]
    },
    {
      "cell_type": "code",
      "metadata": {
        "id": "T1CaaHVUzdVU",
        "colab_type": "code",
        "outputId": "a0cc69a9-b015-4763-9c00-83fc7d91907b",
        "colab": {
          "base_uri": "https://localhost:8080/",
          "height": 33
        }
      },
      "source": [
        "insertionSort([1,6,3,6]) == [1,3,6,6]"
      ],
      "execution_count": 0,
      "outputs": [
        {
          "output_type": "execute_result",
          "data": {
            "text/plain": [
              "True"
            ]
          },
          "metadata": {
            "tags": []
          },
          "execution_count": 17
        }
      ]
    },
    {
      "cell_type": "code",
      "metadata": {
        "id": "cIZyopbhBKuv",
        "colab_type": "code",
        "colab": {}
      },
      "source": [
        "def insertionSort(A):\n",
        "    for j in range(1,len(A)):\n",
        "        key = A[j]\n",
        "        i= j-1\n",
        "        while i >= 0 and A[i]>key:\n",
        "            A[i+1] = A[i]\n",
        "            i -= 1\n",
        "        print(\"j:\",j, \", i after termination:\", i, \", A[i]: \", A[i])\n",
        "        A[i+1] = key\n",
        "        print(A)\n",
        "    return A"
      ],
      "execution_count": 0,
      "outputs": []
    },
    {
      "cell_type": "code",
      "metadata": {
        "id": "mg2wbVM7BlF1",
        "colab_type": "code",
        "outputId": "b3c88329-7888-46e3-b2d9-5505d46e892c",
        "colab": {
          "base_uri": "https://localhost:8080/",
          "height": 133
        }
      },
      "source": [
        "insertionSort([1,6,3,6])"
      ],
      "execution_count": 0,
      "outputs": [
        {
          "output_type": "stream",
          "text": [
            "j: 1 , i after termination: 0 , A[i]:  1\n",
            "[1, 6, 3, 6]\n",
            "j: 2 , i after termination: 0 , A[i]:  1\n",
            "[1, 3, 6, 6]\n",
            "j: 3 , i after termination: 2 , A[i]:  6\n",
            "[1, 3, 6, 6]\n"
          ],
          "name": "stdout"
        },
        {
          "output_type": "execute_result",
          "data": {
            "text/plain": [
              "[1, 3, 6, 6]"
            ]
          },
          "metadata": {
            "tags": []
          },
          "execution_count": 30
        }
      ]
    },
    {
      "cell_type": "markdown",
      "metadata": {
        "deletable": false,
        "editable": false,
        "nbgrader": {
          "checksum": "a25900fe2fba8d1695b31865625ec1eb",
          "grade": false,
          "grade_id": "cell-1399c3a86cc2dd7c",
          "locked": true,
          "schema_version": 1,
          "solution": false
        },
        "id": "Wt6fxWVgDUSy",
        "colab_type": "text"
      },
      "source": [
        "How do you know this code works as intended now?"
      ]
    },
    {
      "cell_type": "markdown",
      "metadata": {
        "deletable": false,
        "nbgrader": {
          "checksum": "4ff5af35daed9a5442ba229263bdde33",
          "grade": true,
          "grade_id": "cell-442998d5fdd8b561",
          "locked": false,
          "points": 0,
          "schema_version": 1,
          "solution": true
        },
        "id": "zD6iitpfDUSz",
        "colab_type": "text"
      },
      "source": [
        "I checked with some test cases and everytime it outputs the sorted list. Also the code is now matched with the abovementioned pseudocode. I also use some print statement to see how the algorithm is working.\n",
        "\n",
        "\n"
      ]
    },
    {
      "cell_type": "markdown",
      "metadata": {
        "deletable": false,
        "editable": false,
        "nbgrader": {
          "checksum": "9d7a3b260b0fef93382fb52aa393f963",
          "grade": false,
          "grade_id": "cell-0ac1c20b43acb363",
          "locked": true,
          "schema_version": 1,
          "solution": false
        },
        "id": "-r5UTKFFDUS0",
        "colab_type": "text"
      },
      "source": [
        "## Question 3 \n",
        "Implement the bubble sort algorithm in the cell below. First, look up the corresponding pseudocode in Cormen et al. (page 40), and write a Python implementation for the bubble sort.  Like in the `insertionSort`,  your new Python function, `bubbleSort`, takes a list of elements as an argument and returns the sorted list."
      ]
    },
    {
      "cell_type": "code",
      "metadata": {
        "deletable": false,
        "nbgrader": {
          "checksum": "16ff8874250907a794fdd3fa6c13bbec",
          "grade": false,
          "grade_id": "cell-b709733c96d8b615",
          "locked": false,
          "schema_version": 1,
          "solution": true
        },
        "id": "Qiv5c-0vDUS0",
        "colab_type": "code",
        "colab": {}
      },
      "source": [
        "def bubbleSort(A):\n",
        "    for i in range(len(A)):\n",
        "      j = len(A)-1\n",
        "      while (j > i):\n",
        "        if (A[j] < A[j-1]):\n",
        "          temp = A[j]\n",
        "          A[j] = A[j-1]\n",
        "          A[j-1] = temp\n",
        "        j -= 1\n",
        "    return A\n",
        "\n",
        "    raise NotImplementedError()"
      ],
      "execution_count": 0,
      "outputs": []
    },
    {
      "cell_type": "code",
      "metadata": {
        "deletable": false,
        "editable": false,
        "nbgrader": {
          "checksum": "e7dc1709a92c6bcac7df39da1771e649",
          "grade": true,
          "grade_id": "cell-ffc9b251ea0047ba",
          "locked": true,
          "points": 2,
          "schema_version": 1,
          "solution": false
        },
        "id": "XYFg47yWDUS2",
        "colab_type": "code",
        "colab": {}
      },
      "source": [
        "# Please ignore this cell. This cell is for us to implement the tests \n",
        "# to see if your code works properly. "
      ],
      "execution_count": 0,
      "outputs": []
    },
    {
      "cell_type": "markdown",
      "metadata": {
        "deletable": false,
        "editable": false,
        "nbgrader": {
          "checksum": "eae899834db5b5ff1b2b1d67d8ef5929",
          "grade": false,
          "grade_id": "cell-60a96a427cd3e94e",
          "locked": true,
          "schema_version": 1,
          "solution": false
        },
        "id": "0K0cFRqPDUS4",
        "colab_type": "text"
      },
      "source": [
        "Is your program bug-free? Think of three different [“test cases”](https://www.hiredintech.com/classrooms/algorithm-design/lesson/83) to check the correctness of your code. If a code passes the tests you have just outlined, is this an unambiguous proof that the code is correct? Give your answer in the cell below. Feel free to use additional cells (Markdown or Code) as you wish."
      ]
    },
    {
      "cell_type": "markdown",
      "metadata": {
        "deletable": false,
        "nbgrader": {
          "checksum": "eb02c9951e19ee43d128fa93dd53eaad",
          "grade": true,
          "grade_id": "cell-5ecb51404140cb2f",
          "locked": false,
          "points": 0,
          "schema_version": 1,
          "solution": true
        },
        "id": "hUq51gGIDUS5",
        "colab_type": "text"
      },
      "source": [
        "\n",
        "Some test cases are given below:\n",
        "\n"
      ]
    },
    {
      "cell_type": "code",
      "metadata": {
        "id": "fTyxuqtNVM-X",
        "colab_type": "code",
        "colab": {
          "base_uri": "https://localhost:8080/",
          "height": 33
        },
        "outputId": "d4a10ff2-cd5a-4006-af6c-e9e7215ae005"
      },
      "source": [
        "bubbleSort([1,6,3,6])\n"
      ],
      "execution_count": 3,
      "outputs": [
        {
          "output_type": "execute_result",
          "data": {
            "text/plain": [
              "[1, 3, 6, 6]"
            ]
          },
          "metadata": {
            "tags": []
          },
          "execution_count": 3
        }
      ]
    },
    {
      "cell_type": "code",
      "metadata": {
        "id": "bUGzmKnlVVcc",
        "colab_type": "code",
        "colab": {
          "base_uri": "https://localhost:8080/",
          "height": 33
        },
        "outputId": "31760684-461c-49d0-a632-c2dbeb6a8f79"
      },
      "source": [
        "bubbleSort([0, 0, -1, 8, 3])\n"
      ],
      "execution_count": 5,
      "outputs": [
        {
          "output_type": "execute_result",
          "data": {
            "text/plain": [
              "[-1, 0, 0, 3, 8]"
            ]
          },
          "metadata": {
            "tags": []
          },
          "execution_count": 5
        }
      ]
    },
    {
      "cell_type": "code",
      "metadata": {
        "id": "TvX3UeIPVcbh",
        "colab_type": "code",
        "colab": {
          "base_uri": "https://localhost:8080/",
          "height": 33
        },
        "outputId": "6cd44bcd-9c41-42d2-bab3-e877cec6b9d2"
      },
      "source": [
        "bubbleSort([3,2,1,0,-1,-2])\n"
      ],
      "execution_count": 6,
      "outputs": [
        {
          "output_type": "execute_result",
          "data": {
            "text/plain": [
              "[-2, -1, 0, 1, 2, 3]"
            ]
          },
          "metadata": {
            "tags": []
          },
          "execution_count": 6
        }
      ]
    },
    {
      "cell_type": "markdown",
      "metadata": {
        "id": "Se-cdktJVmHX",
        "colab_type": "text"
      },
      "source": [
        "This is working for these three test cases. But it's not un ambigious proof that the code is working because there could exist some extreme case for that the code might not work.\n",
        "\n",
        "So, along with testing with some potential extreme and normal test cases, it's also a good practice to check if the loop invariant in the algorithm outputs correct result in 'initiation', 'maintenanace' and 'termination' phase."
      ]
    },
    {
      "cell_type": "markdown",
      "metadata": {
        "deletable": false,
        "editable": false,
        "nbgrader": {
          "checksum": "cb0b8b9c4b153530d47b437baa24098d",
          "grade": false,
          "grade_id": "cell-b22dce6b32afe1a9",
          "locked": true,
          "schema_version": 1,
          "solution": false
        },
        "id": "qa9lY0ajDUS5",
        "colab_type": "text"
      },
      "source": [
        "## Question 4\n",
        "The following pseudocode corresponds to a third sorting algorithm to be covered in Lesson 1.2, the selection sort.  Like in the previous step, write a Python implementation of the algorithm and make sure that your program is bug-free. `selectionSort` should take a list of elements as an argument and return the sorted list.\n",
        "\n",
        "![Selection sort pseudo-code](https://github.com/mahmud-nobe/CS110_pcw_1.2/raw/master/selectionsort_pseudo.png)"
      ]
    },
    {
      "cell_type": "code",
      "metadata": {
        "deletable": false,
        "nbgrader": {
          "checksum": "2f4365879ed0fd5b360bc25f4795c113",
          "grade": false,
          "grade_id": "cell-e04f94e5d418923c",
          "locked": false,
          "schema_version": 1,
          "solution": true
        },
        "id": "cw4H4dCzDUS6",
        "colab_type": "code",
        "colab": {}
      },
      "source": [
        "def selectionSort(A):\n",
        "    n = len(A)\n",
        "    for i in range(n-1):\n",
        "      minidx = i\n",
        "      for j in range(i+1, n):\n",
        "        if (A[j] < A[minidx]):\n",
        "          minidx = j\n",
        "      temp = A[i]\n",
        "      A[i] = A[minidx]\n",
        "      A[minidx] = temp\n",
        "    return A\n",
        "    \n",
        "    raise NotImplementedError()"
      ],
      "execution_count": 0,
      "outputs": []
    },
    {
      "cell_type": "code",
      "metadata": {
        "id": "t1RPUyJUXKKB",
        "colab_type": "code",
        "colab": {
          "base_uri": "https://localhost:8080/",
          "height": 33
        },
        "outputId": "150b7355-241b-4f2b-a6c1-bd594cf746e0"
      },
      "source": [
        "selectionSort([3,2,1,0,-1,-2])"
      ],
      "execution_count": 10,
      "outputs": [
        {
          "output_type": "execute_result",
          "data": {
            "text/plain": [
              "[-2, -1, 0, 1, 2, 3]"
            ]
          },
          "metadata": {
            "tags": []
          },
          "execution_count": 10
        }
      ]
    },
    {
      "cell_type": "code",
      "metadata": {
        "deletable": false,
        "editable": false,
        "nbgrader": {
          "checksum": "352859ddf81204abd5eb3d91570919c7",
          "grade": true,
          "grade_id": "cell-ffe912ac7922de70",
          "locked": true,
          "points": 1,
          "schema_version": 1,
          "solution": false
        },
        "id": "pdng_fwlDUS8",
        "colab_type": "code",
        "colab": {}
      },
      "source": [
        "# Please ignore this cell. This cell is for us to implement the tests \n",
        "# to see if your code works properly. "
      ],
      "execution_count": 0,
      "outputs": []
    },
    {
      "cell_type": "markdown",
      "metadata": {
        "deletable": false,
        "editable": false,
        "nbgrader": {
          "checksum": "2305488ea190bf7b0347891f06164775",
          "grade": false,
          "grade_id": "cell-7ff8930bd7d30706",
          "locked": true,
          "schema_version": 1,
          "solution": false
        },
        "id": "oQKHkNsYDUS-",
        "colab_type": "text"
      },
      "source": [
        "**Please make sure you try your best to code insertion sort, selection sort and bubble sort, and bring these programs to class. You will need them for a class activity.**"
      ]
    }
  ]
}